{
 "cells": [
  {
   "cell_type": "markdown",
   "id": "7e7c13fe-8204-4274-a085-8890e145b61c",
   "metadata": {},
   "source": [
    "# A simple notbook"
   ]
  },
  {
   "cell_type": "code",
   "execution_count": 2,
   "id": "eab7f37a-90b1-4943-b8b8-0ed762dcf1d2",
   "metadata": {},
   "outputs": [],
   "source": [
    "a = 2\n",
    "b = 2\n",
    "c = a + b"
   ]
  },
  {
   "cell_type": "code",
   "execution_count": 3,
   "id": "2312e4cc-791f-4c70-8ff6-7a623a43bd3b",
   "metadata": {},
   "outputs": [
    {
     "name": "stdout",
     "output_type": "stream",
     "text": [
      "c =  4\n"
     ]
    }
   ],
   "source": [
    "print('c = ', c)"
   ]
  },
  {
   "cell_type": "code",
   "execution_count": 4,
   "id": "8287da9f-de9d-4135-aacd-629ef1cf7461",
   "metadata": {},
   "outputs": [],
   "source": [
    "# Some more code"
   ]
  },
  {
   "cell_type": "code",
   "execution_count": 5,
   "id": "0d3a20c4-02f1-461c-b4d4-96c6969eaaab",
   "metadata": {},
   "outputs": [
    {
     "data": {
      "text/plain": [
       "1.3333333333333333"
      ]
     },
     "execution_count": 5,
     "metadata": {},
     "output_type": "execute_result"
    }
   ],
   "source": [
    "(a+b)/3"
   ]
  },
  {
   "cell_type": "code",
   "execution_count": null,
   "id": "89894041-189e-4e34-92a8-4caf688df3a2",
   "metadata": {},
   "outputs": [],
   "source": []
  }
 ],
 "metadata": {
  "kernelspec": {
   "display_name": "Python 3 (ipykernel)",
   "language": "python",
   "name": "python3"
  },
  "language_info": {
   "codemirror_mode": {
    "name": "ipython",
    "version": 3
   },
   "file_extension": ".py",
   "mimetype": "text/x-python",
   "name": "python",
   "nbconvert_exporter": "python",
   "pygments_lexer": "ipython3",
   "version": "3.9.12"
  }
 },
 "nbformat": 4,
 "nbformat_minor": 5
}
